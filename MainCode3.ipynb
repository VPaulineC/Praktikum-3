{
 "cells": [
  {
   "cell_type": "markdown",
   "metadata": {},
   "source": [
    "# Praktikum 3\n"
   ]
  },
  {
   "cell_type": "code",
   "execution_count": 2,
   "metadata": {},
   "outputs": [],
   "source": [
    "import numpy as np\n",
    "import pandas as pd"
   ]
  },
  {
   "cell_type": "markdown",
   "metadata": {},
   "source": [
    "2. gemittelte Daten von MVC berechnen und in ein csv datei abspeichern"
   ]
  },
  {
   "cell_type": "code",
   "execution_count": 14,
   "metadata": {},
   "outputs": [
    {
     "name": "stdout",
     "output_type": "stream",
     "text": [
      "Durchschnittsdaten gespeichert in: average_MVC_Andreas.csv\n",
      "Durchschnittsdaten gespeichert in: average_MVC_Carina.csv\n",
      "Durchschnittsdaten gespeichert in: average_MVC_Pauline.csv\n"
     ]
    }
   ],
   "source": [
    "def read_txt_file(filepath):\n",
    "    return np.loadtxt(filepath)\n",
    "\n",
    "def pad_data_to_max_length(*datasets):\n",
    "    max_length = max(len(dataset) for dataset in datasets)\n",
    "    padded_datasets = [\n",
    "        np.pad(dataset, ((0, max_length - len(dataset)), (0, 0)), mode='constant', constant_values=0)\n",
    "        for dataset in datasets\n",
    "    ]\n",
    "    return padded_datasets\n",
    "\n",
    "def calculate_average_data(*datasets):\n",
    "    return np.mean(datasets, axis=0)\n",
    "\n",
    "def process_personal_data(filepaths, output_csv):\n",
    "    # Daten einlesen\n",
    "    datasets = [read_txt_file(filepath) for filepath in filepaths]\n",
    "   \n",
    "    # Daten auf gleiche Länge polstern\n",
    "    padded_datasets = pad_data_to_max_length(*datasets)\n",
    "    \n",
    "    # Mittelwert berechnen\n",
    "    average_data = calculate_average_data(*padded_datasets)\n",
    "    \n",
    "    # Ergebnis als DataFrame speichern\n",
    "    average_df = pd.DataFrame(average_data, columns=['Value', 'Time'])\n",
    "    average_df.to_csv(output_csv, index=False)\n",
    "    print(f\"Durchschnittsdaten gespeichert in: {output_csv}\")\n",
    "\n",
    "person1_files = [\"MVC_1_Andreas.txt\", \"MVC_2_Andreas.txt\", \"MVC_3_Andreas.txt\", \"MVC_4_Andreas.txt\"]\n",
    "person2_files = [\"MVC_1_Carina.txt\", \"MVC_2_Carina.txt\", \"MVC_3_Carina.txt\", \"MVC_4_Carina.txt\"]\n",
    "person3_files = [\"MVC_1_Pauline.txt\", \"MVC_2_Pauline.txt\", \"MVC_3_Pauline.txt\", \"MVC_4_Pauline.txt\"]\n",
    "\n",
    "# Verarbeitung der Daten von Andreas\n",
    "process_personal_data(person1_files, \"average_MVC_Andreas.csv\")\n",
    "\n",
    "# Verarbeitung der Daten von Clara\n",
    "process_personal_data(person2_files, \"average_MVC_Carina.csv\")\n",
    "\n",
    "# Verarbeitung der Daten von Pauline\n",
    "process_personal_data(person3_files, \"average_MVC_Pauline.csv\")\n"
   ]
  }
 ],
 "metadata": {
  "kernelspec": {
   "display_name": "Python 3",
   "language": "python",
   "name": "python3"
  },
  "language_info": {
   "codemirror_mode": {
    "name": "ipython",
    "version": 3
   },
   "file_extension": ".py",
   "mimetype": "text/x-python",
   "name": "python",
   "nbconvert_exporter": "python",
   "pygments_lexer": "ipython3",
   "version": "3.12.7"
  }
 },
 "nbformat": 4,
 "nbformat_minor": 2
}
